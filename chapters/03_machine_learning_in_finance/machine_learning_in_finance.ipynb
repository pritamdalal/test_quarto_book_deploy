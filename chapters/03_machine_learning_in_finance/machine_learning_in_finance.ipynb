{
 "cells": [
  {
   "cell_type": "markdown",
   "metadata": {},
   "source": [
    "# Predictions with Data"
   ]
  },
  {
   "cell_type": "markdown",
   "metadata": {},
   "source": [
    "## What is Machine Learning?\n",
    "\n",
    "An **ML algorithm** learns complex patterns in high-dimensional space with out being specifically directed.\n",
    "\n",
    "- may find patterns that can't be easily represented by a finite set of equations\n",
    "- often involves a large number of variables and interactions between them\n",
    "- researchers do not assume a particular structure of the data"
   ]
  },
  {
   "cell_type": "markdown",
   "metadata": {},
   "source": [
    "## Categories of Machine Learning"
   ]
  },
  {
   "cell_type": "markdown",
   "metadata": {},
   "source": [
    "- *Supervised* - learning to make predictions from a set of feature and label observations.\n",
    "- *Unsupervised* - learning patterns in a set of feature observations.\n",
    "- *Deep Learning* - a subset of supervised learning consisting of multi-layered neural networks.\n",
    "- *Reinforcement Learning* - how intelligent agents ought to take action to maximize a reward.\n",
    "\n",
    "**Classical Machine Learning:** supervised and unsupervised\n",
    "\n",
    "**Deep Learning:** neural networks and reinforcement learning"
   ]
  },
  {
   "cell_type": "markdown",
   "metadata": {},
   "source": [
    "## Regression and Classification\n",
    "\n",
    "<!-- When we predict a quantitative label, it is called a *regression* problem. -->\n",
    "- There are two categories of supervised learning.\n",
    "- Predicting a quantitative (continuous) label is called *regression*.\n",
    "- Predicting a qualitative (discrete) label is called *classification*.\n",
    "- Certain prediction methods are better suited for regression or classification. Other methods work equally well for both."
   ]
  },
  {
   "cell_type": "markdown",
   "metadata": {},
   "source": [
    "## Machine Learning Techniques\n",
    "\n",
    "![](images/classification_of_machine_learning_techniques.png)"
   ]
  },
  {
   "cell_type": "markdown",
   "metadata": {},
   "source": [
    "## Neural Networks and Their Applications\n",
    "\n",
    "- **Feed-Forward:** non-linear function estimation\n",
    "- **Convolutional:** image classification\n",
    "- **Recurrent:** time-series analysis\n",
    "\n",
    "Deep-learning has many stunning success stories outside of finance (chat-bots, language translation, self-driving cars), but classical machine learning still dominates structured data."
   ]
  },
  {
   "cell_type": "markdown",
   "metadata": {},
   "source": [
    "## Feed-Forward Neural Network\n",
    "\n",
    "![](images/feed_forward_neural_network.png)"
   ]
  },
  {
   "cell_type": "markdown",
   "metadata": {},
   "source": [
    "## Universal Approximation Theorem\n",
    "\n",
    "A feed-forward neural network with a single hidden layer can approximate almost any function with arbitrary accuracy.  \n",
    "\n",
    "<br>\n",
    "\n",
    "However you may need **a lot** of units in the hidden layer.\n",
    "\n",
    "<br>\n",
    "\n",
    "From a practical standpoint, you're probably better off with multiple layers of modest size."
   ]
  },
  {
   "cell_type": "markdown",
   "metadata": {},
   "source": [
    "## Variance-Bias Trade-Off (1 of 3)\n",
    "\n",
    "\\begin{align*}\n",
    "\\text{Forecast Error} \\,\\, = \\,\\, &\\text{In-Sample Error} \\, + \\\\[6pt]\n",
    "                        &\\text{Model Instability} \\, + \\\\[6pt] \n",
    "                        &\\text{Random Error}\n",
    "\\end{align*}\n",
    "\n",
    "**In-Sample Error:** *bias*\n",
    "\n",
    "**Model Instability:** *variance*\n",
    "\n",
    "**Random Error:** *irreducible noise*"
   ]
  },
  {
   "cell_type": "markdown",
   "metadata": {},
   "source": [
    "## Variance-Bias Trade-Off (2 of 3)\n",
    "\n",
    "- **Bias** -- if the model poorly fits historical data, it will likely poorly describe future data.\n",
    "- **Variance** -- if the model fits historical data too well, it has likely fit noise, and hence it will likely poorly describe future data.\n",
    "\n",
    "The art of machine learning is finding the right balance between bias and model stability."
   ]
  },
  {
   "cell_type": "markdown",
   "metadata": {},
   "source": [
    "## Variance-Bias Trade-Off (3 of 3)\n",
    "\n",
    "![](images/variance_bias_tradeoff.png)\n",
    "\n",
    "Model flexibility comes at the cost of model instability."
   ]
  },
  {
   "cell_type": "markdown",
   "metadata": {},
   "source": [
    "## Overfitting and Underfitting\n",
    "\n",
    "![](images/underfit_overfit.png)"
   ]
  },
  {
   "cell_type": "markdown",
   "metadata": {},
   "source": [
    "## Machine Learning vs Statistics (1 of 2)\n",
    "\n",
    "Many of the ideas of machine learning have lived under the umbrella of statistics.\n",
    "\n",
    "**Substantive differences:**\n",
    "\n",
    "1. **Nature of models:**\n",
    "    - statistics: small linear models\n",
    "    - ML: large non-linear models\n",
    "1. **Model selection:** searching through many models to find the best performers; i.e. model tuning.\n",
    "    - regularization to prevent overfitting"
   ]
  },
  {
   "cell_type": "markdown",
   "metadata": {},
   "source": [
    "## Machine Learning vs Statistics (2 of 2)\n",
    "\n",
    "**Substantive differences (cont'd):**\n",
    "\n",
    "1. Novel optimization techniques.\n",
    "    - e.g stochastic gradient descent for large data sets\n",
    "1. A wide applicability to commercial contexts due to a focus on prediction accuracy."
   ]
  },
  {
   "cell_type": "markdown",
   "metadata": {},
   "source": [
    "## Machine Learning Tools and Technology\n",
    "\n",
    "1. **Programming:** Python, R, Julia, Scala\n",
    "1. **Packages:** sklearn, tidymodels, keras, tensorflow, Spark MLlib\n",
    "1. **Distributed Computing:** Spark\n",
    "1. **Visualization:** Shiny, Tableau, PowerBI, Looker\n",
    "1. **Legacy:** Excel, Matlab, SAS"
   ]
  },
  {
   "cell_type": "markdown",
   "metadata": {},
   "source": [
    "# Financial Machine Learning"
   ]
  },
  {
   "cell_type": "markdown",
   "metadata": {},
   "source": [
    "## Non-Financial ML"
   ]
  },
  {
   "cell_type": "markdown",
   "metadata": {},
   "source": [
    "- Applications of ML in non-financial context have seen some stunning success: \n",
    "    - image recognition\n",
    "    - strategy games\n",
    "    - autonomous vehicles\n",
    "    - robotics\n",
    "- All of these contexts have two characteristics:\n",
    "    - high signal to noise ratio\n",
    "    - truly BIG data"
   ]
  },
  {
   "cell_type": "markdown",
   "metadata": {},
   "source": [
    "## The Promise of Financial ML"
   ]
  },
  {
   "cell_type": "markdown",
   "metadata": {},
   "source": [
    "Financial ML offers the ability to extract insights from data:\n",
    "\n",
    "- non-linear relationships in high dimensional feature space\n",
    "- handling complex interactions\n",
    "- focus on prediction\n",
    "- controlling for overfitting\n",
    "\n",
    "<span style=\"color: red;\">**Warning:**</span> financial modeling is harder than driving cars or recognizing faces!"
   ]
  },
  {
   "cell_type": "markdown",
   "metadata": {},
   "source": [
    "## Financial ML Applications"
   ]
  },
  {
   "cell_type": "markdown",
   "metadata": {},
   "source": [
    "1. price/return prediction\n",
    "1. hedging\n",
    "1. portfolio construction \n",
    "1. bet sizing\n",
    "1. credit ratings\n",
    "1. trade execution"
   ]
  },
  {
   "cell_type": "markdown",
   "metadata": {},
   "source": [
    "## Evolution not Revolution"
   ]
  },
  {
   "cell_type": "markdown",
   "metadata": {},
   "source": [
    "> ...machine learning is the most recent embodiment of the long standing quantitative investing paradigm - the idea of using data-driven approaches to build more efficient portfolios...it is a natural evolution of quantitative tools in asset management, and not a revolutionary shift in the business model.\n",
    "\n",
    "*Can Machines \"Learn\" Finance*"
   ]
  },
  {
   "cell_type": "markdown",
   "metadata": {},
   "source": [
    "## Financial ML vs Non-Financial ML"
   ]
  },
  {
   "cell_type": "markdown",
   "metadata": {},
   "source": [
    "- Financial ML is markedly different than many of the domains in which ML has been wildly successful.\n",
    "    - small data\n",
    "    - very noisy\n",
    "    - can't generate new data via experimentation\n",
    "    \n",
    "- Complex models like neural networks can have literally millions of parameters to fit, and hence require a huge amount of data.\n",
    "\n",
    "<span style=\"color: red;\">**Warning:**</span> returns prediction is harder than chess, go, and Atari."
   ]
  },
  {
   "cell_type": "markdown",
   "metadata": {},
   "source": [
    "## Dogs Morphing into Cats"
   ]
  },
  {
   "cell_type": "markdown",
   "metadata": {},
   "source": [
    "- Markets evolve.\n",
    "- In particular, if there is a model that is predictive of returns, then other market participant become aware of the model.\n",
    "- And hence the predictive power of the model goes away.\n",
    "\n",
    "**Image recognition analogy:** \"...dogs morph into cats as soon as the model gets good at predicting dogs.\""
   ]
  },
  {
   "cell_type": "markdown",
   "metadata": {},
   "source": [
    "## Returns Prediction: Small Data"
   ]
  },
  {
   "cell_type": "markdown",
   "metadata": {},
   "source": [
    "- Return prediction is an inherently small data problem.\n",
    "- HFT has had more ML success because of larger data sets.\n",
    "    - however rebalance frequencies are capped by transaction costs\n",
    "- Tiny: monthly macro statistics (few hundred)\n",
    "- Smallish: monthly cross-sectional equities data (few hundred thousand)\n",
    "    - amount of data is over stated due to correlations\n",
    "\n"
   ]
  },
  {
   "cell_type": "markdown",
   "metadata": {},
   "source": [
    "## Return Prediction: Low Signal-to-Noise"
   ]
  },
  {
   "cell_type": "markdown",
   "metadata": {},
   "source": [
    "- High volatility due to unanticipated news.\n",
    "\n",
    "- Volatility is especially high relative to risk-premia which are small.\n",
    "\n",
    "- Any return predictability is wiped away by trading, and all that remains is noise."
   ]
  },
  {
   "cell_type": "markdown",
   "metadata": {},
   "source": [
    "## Interpretability (Black-Box)"
   ]
  },
  {
   "cell_type": "markdown",
   "metadata": {},
   "source": [
    "- Machine learning models can be hard to interpret, i.e. describe how an input observation results in a prediction.\n",
    "\n",
    "- <span style=\"color: green;\">**Antidotes:**</span>\n",
    "    - Shapley numbers\n",
    "    - mean decrease accuracy\n",
    "\n",
    "- Choosing predictability vs interpretability of a model is ultimately a business decision."
   ]
  },
  {
   "cell_type": "markdown",
   "metadata": {},
   "source": [
    "## Pitfalls of Financial Machine Learning\n",
    "\n",
    "- data sets that don't contain edge\n",
    "- signals that have little investing capacity\n",
    "- signals that decay quickly\n",
    "- data sets that cost too much\n",
    "- building expensive infrastructure with little ROI\n",
    "- data scientists without financial knowledge\n",
    "- overfitting"
   ]
  },
  {
   "cell_type": "markdown",
   "metadata": {},
   "source": [
    "## Deep Learning in Portfolio Management\n",
    "\n",
    "The use of deep learning in asset management tends to be indirect:\n",
    "\n",
    "- analysis of parking lots images (convolutional)\n",
    "- analysis of crop images (convolutional)\n",
    "- text analysis for sentiment (recurrent)"
   ]
  },
  {
   "cell_type": "markdown",
   "metadata": {},
   "source": [
    "## Well Known ML Firms\n",
    "\n",
    "1. Renaissance Technology\n",
    "1. Two Sigma\n",
    "1. DE Shaw\n",
    "1. TGS\n",
    "1. Capital Fund Management"
   ]
  },
  {
   "cell_type": "markdown",
   "metadata": {},
   "source": [
    "## Numerai\n",
    "\n",
    "::: columns\n",
    "\n",
    "::: {.column width=\"50%\"}\n",
    "- crowd sourced hedge fund\n",
    "- founded by ex-RenTech executives\n",
    "- trading decision based on a data-science tournament using anonymized data\n",
    "- participant enter the tournament by \"staking\" Numeraire, a bespoke crypto-currency\n",
    ":::\n",
    "\n",
    "::: {.column width=\"50%\"}\n",
    "![](images/numerai.png){width=\"400\"}\n",
    "![](images/numerai_performance.png){width=\"400\"}\n",
    ":::\n",
    "\n",
    ":::"
   ]
  },
  {
   "cell_type": "markdown",
   "metadata": {},
   "source": [
    "# Big Data"
   ]
  },
  {
   "cell_type": "markdown",
   "metadata": {},
   "source": [
    "## Big Data Revolution - Root Causes"
   ]
  },
  {
   "cell_type": "markdown",
   "metadata": {},
   "source": [
    "- A huge increase in the amount of available data: \n",
    "    - order-book\n",
    "    - social media\n",
    "    - phones\n",
    "    - IOT\n",
    "- Increase in cheap computing and digital storage.\n",
    "- Advances in machine learning techniques.\n",
    "- Proliferation of open sources tooling, e.g. Python and R."
   ]
  },
  {
   "cell_type": "markdown",
   "metadata": {},
   "source": [
    "## Programmatic APIs\n",
    "\n",
    "Data providers like **Refinitiv** and **Bloomberg** have programmatic APIs have caused an explosion in data-driven finance:\n",
    "\n",
    "- structured historical (EOD prices)\n",
    "- structured streaming (real time fills and order-book)\n",
    "- unstructured historical (articles)\n",
    "- unstructured streaming (real time NLP of commodity reports)"
   ]
  },
  {
   "cell_type": "markdown",
   "metadata": {},
   "source": [
    "## Improvements in Hardware\n",
    "\n",
    "- **Performance:** GPUs and TPU have a parallel architecture\n",
    "- **Cost:** have come down tremendously; now attainable to individual researchers\n",
    "- **Power:** electricity usage has come down\n",
    "- **Cloud Computing:** AWS, GCP, Azure\n",
    "- **Open Source Technologies:** Python, R, Spark"
   ]
  },
  {
   "cell_type": "markdown",
   "metadata": {},
   "source": [
    "## Categories of Alternative Data\n",
    "\n",
    "It is useful to categorize alternative data by how it is generated:\n",
    "\n",
    "- **people:** social media, product reviews, search trends\n",
    "- **business processes:** company exhaust data, commercial transactions, credit card data\n",
    "- **sensors:** satellite images, foot and car traffic, ship locations\n",
    "\n",
    "Characteristics:\n",
    "\n",
    "- *high volume*\n",
    "- *high velocity*\n",
    "- *variety - formats, structured, unstructured*"
   ]
  },
  {
   "cell_type": "markdown",
   "metadata": {},
   "source": [
    "## Alternative Data Categories\n",
    "\n",
    "![](images/alternative_data_categories.png)"
   ]
  },
  {
   "cell_type": "markdown",
   "metadata": {},
   "source": [
    "## Big Data Workflow\n",
    "\n",
    "![](images/big_data_workflow.png)"
   ]
  },
  {
   "cell_type": "markdown",
   "metadata": {},
   "source": [
    "## How Processed Do You Want the Data?\n",
    "\n",
    "- raw data\n",
    "- semi-processed data\n",
    "- signals and reports"
   ]
  },
  {
   "cell_type": "markdown",
   "metadata": {},
   "source": [
    "# ML vs Econometrics"
   ]
  },
  {
   "cell_type": "markdown",
   "metadata": {},
   "source": [
    "## Econometrics\n",
    "\n",
    "- Encompasses the set of statistical methods applied to economic and financial data.\n",
    "- The purpose is to test economics theories, not make predictions.\n",
    "    - inference vs prediction\n",
    "- Concentration on multivariate linear regression.\n",
    "\n",
    "Concepts central to machine learning are largely absent from econometric literature: *classifier, clustering, neural networks, machine learning*\n",
    "\n",
    "- the situation is better in biostatistics and chemeometrics."
   ]
  },
  {
   "cell_type": "markdown",
   "metadata": {},
   "source": [
    "## The Popularity of Regression (OLS) \n",
    "\n",
    "- centuries old\n",
    "- simplicity\n",
    "- scalability\n",
    "- flexibility (e.g. polynomial, LOESS)\n",
    "- speed\n",
    "- availability (R, SAS, Python)"
   ]
  },
  {
   "cell_type": "markdown",
   "metadata": {},
   "source": [
    "## Faulty Assumptions of Regression (OLS)\n",
    "\n",
    "- linearity of labels to features\n",
    "- independence of features\n",
    "- zero mean homoskedastic residuals\n",
    "- no auto-correlation of residuals"
   ]
  },
  {
   "cell_type": "markdown",
   "metadata": {},
   "source": [
    "## Correlation\n",
    "\n",
    "Correlation is the foundation of econometrics.\n",
    "\n",
    "<span style=\"color: red;\">**Here are the problems with correlations:**</span>\n",
    "\n",
    "\n",
    "- most useful for linear codependencies, but most in finance are non-linear\n",
    "- most useful for multivariate normal distributions (finance is non-normal)\n",
    "- extremely noisy\n",
    "- sensitive to outliers"
   ]
  },
  {
   "cell_type": "markdown",
   "metadata": {},
   "source": [
    "## Boring Data Sets\n",
    "\n",
    "Most interesting data sets can be tackled by machine learning but not econometrics.\n",
    "\n",
    "- **unstructured data** -- less that 20% of all data is structured\n",
    "- **high dimensionality** -- more features than observations\n",
    "- **noisy** -- lots noise/randomness per unit of signal\n",
    "\n",
    "Econometrics models uninteresting data."
   ]
  },
  {
   "cell_type": "markdown",
   "metadata": {},
   "source": [
    "## In-Sample vs Out-of-Sample\n",
    "\n",
    "- In-sample variance adjudication is the goal of classical statistics/econometrics.\n",
    "- Machine learning attempts to predict out-of-sample.\n",
    "    - this has more practical value\n",
    "- Inference vs prediction."
   ]
  },
  {
   "cell_type": "markdown",
   "metadata": {},
   "source": [
    "## High Expectations\n",
    "\n",
    "- A typical econometric model will look like:\n",
    "\\begin{align*}\n",
    "y_{t} = f(x_{1,t},\\ldots, x_{p,t}) + \\epsilon_{t}\n",
    "\\end{align*}\n",
    "where $f$ is some polynomial of the $x_{i,t}$.\n",
    "- This means that an econometrician needs to correctly identify $f$ as well as the relevant $x_{i}$.\n",
    "- Given the complexity of financial systems, this is not realistic."
   ]
  },
  {
   "cell_type": "markdown",
   "metadata": {},
   "source": [
    "## Parametric vs Learning\n",
    "\n",
    "- Traditional models don't *learn* from the data.\n",
    "\n",
    "- Rather, we are required to provide the exact functional (parametric) specification in order to reach useful conclusions."
   ]
  },
  {
   "cell_type": "markdown",
   "metadata": {},
   "source": [
    "## Limitations of $p$-Values\n",
    "\n",
    "Feature importance in financial econometrics relies on $p$-values. However:\n",
    "\n",
    "- require unrealistic assumptions to be valid\n",
    "    - e.g. white noise Gaussian residuals\n",
    "- fail in the common case of multi-collinearity\n",
    "- assess significance in-sample vs. out-of-sample"
   ]
  },
  {
   "cell_type": "markdown",
   "metadata": {},
   "source": [
    "## Mean Decrease Accuracy (MDA)\n",
    "\n",
    "MDA is an ML technique for assessing feature importance that is more robust that $p$-values.\n",
    "\n",
    "1. fit a machine learning algorithm on the training set, estimate the out-of-sample accuracy\n",
    "2. shuffle one variable at a time and re-estimate the out-of-sample accuracy\n",
    "3. evaluate the decay in out-of-sample accuracy from shuffling each variable"
   ]
  },
  {
   "cell_type": "markdown",
   "metadata": {},
   "source": [
    "## Long-Range Forecasting\n",
    "\n",
    "Using small amounts of structured data to make long-term forecasts.\n",
    "\n",
    "- price time series data (stat arb, CTA)\n",
    "- cross-sectional data (asset pricing, factor investing)\n",
    "\n",
    "Forecasts rely on statistical relationships between lagged observation and future outcome.\n",
    "\n",
    "- however these relationships don't always hold"
   ]
  },
  {
   "cell_type": "markdown",
   "metadata": {},
   "source": [
    "## Short-Term Forecasting (Now-Casting)\n",
    "\n",
    "Using a large amount of unstructured data to make short-term predictions:\n",
    "\n",
    "- liquidity conditions based on millions of FIX messages\n",
    "- earnings of retailer based on parking lot occupancy satellite images\n",
    "- industrial production based on cargo shipments, auto production, electricity consumption"
   ]
  },
  {
   "cell_type": "markdown",
   "metadata": {},
   "source": [
    "# Machine Learning Operations (MLOps)"
   ]
  },
  {
   "cell_type": "markdown",
   "metadata": {},
   "source": [
    "## What is MLOps?\n",
    "\n",
    "> MLOps is a set of practices that aims to deploy and maintain machine learning models in production reliably and efficiently.\n",
    "\n",
    "*Wikipedia*"
   ]
  },
  {
   "cell_type": "markdown",
   "metadata": {},
   "source": [
    "## From Prototype to Production (1 of 2)\n",
    "\n",
    "Somewhere a quant has accomplished the following:\n",
    "\n",
    "``` python\n",
    "import pandas as pd\n",
    "from sklearn.ensemble import RandomForestClassifier\n",
    "\n",
    "X = pd.read_csv('features.csv')\n",
    "y = pd.read_csv('labels.csv')\n",
    "\n",
    "model = RandomForestClassifier()\n",
    "model.fit(X, y)\n",
    "```\n",
    "\n",
    "<br>\n",
    "\n",
    "<center> <font size=\"+20\">**NOW WHAT??**</font> </center>"
   ]
  },
  {
   "cell_type": "markdown",
   "metadata": {},
   "source": [
    "## From Prototype to Production (2 of 2)\n",
    "\n",
    "You probably want to:\n",
    "\n",
    "- document the model \n",
    "    - model card\n",
    "- make the model accessible to other processes\n",
    "    - via an API\n",
    "- organize versions of the model as training data is updated\n",
    "- track the performance of the model through time"
   ]
  },
  {
   "cell_type": "markdown",
   "metadata": {},
   "source": [
    "## Vetiver - Python and R\n",
    "\n",
    "::: columns\n",
    "\n",
    "::: {.column width=\"40%\"}\n",
    "- open source packages developed by RStudio\n",
    "- ideal for versioning, deploying, monitoring models\n",
    "- works seemlessly with RStudio Connect, but can be used elsewhere\n",
    ":::\n",
    "\n",
    "::: {.column width=\"60%\"}\n",
    "![](images/vetiver.png){width=\"1200\"}\n",
    ":::\n",
    "\n",
    ":::"
   ]
  },
  {
   "cell_type": "markdown",
   "metadata": {},
   "source": [
    "# RStudio Updates"
   ]
  },
  {
   "cell_type": "markdown",
   "metadata": {},
   "source": [
    "## Rebrand\n",
    "\n",
    "![](images/posit_logo.jpg){fig-align=\"left\"}\n",
    "\n",
    "RStudio is becoming Posit!"
   ]
  },
  {
   "cell_type": "markdown",
   "metadata": {},
   "source": [
    "## Quarto: Next-Gen R Markdown\n",
    "\n",
    "![](images/quarto_dark.jpg)\n",
    "\n",
    "This presentation was created with [Quarto](quarto.org) in a Jupyter Notebook.  **No R!**"
   ]
  },
  {
   "cell_type": "markdown",
   "metadata": {},
   "source": [
    "## ![](images/shiny_for_python_logo.png){width=\"300\"}\n",
    "![](images/shiny_for_python.png){width=\"700\"}\n",
    "\n",
    "Over a decade of [Shiny](https://shiny.rstudio.com/py/) development brought into the Python ecosystem."
   ]
  },
  {
   "cell_type": "markdown",
   "metadata": {},
   "source": [
    "# Thank You"
   ]
  },
  {
   "cell_type": "markdown",
   "metadata": {},
   "source": [
    "## References\n",
    "\n",
    "*Advances in Financial Machine Learning*, Marcos López de Prado (2018)\n",
    "\n",
    "*Artificial Intelligence in Finance*, Yves Hilpsich (2020)\n",
    "\n",
    "*Big Data and AI Strategies*, JP Morgan (2017)\n",
    "\n",
    "*Can Machines \"Learn\" Finance?*, Ronen Israel, Bryan Kelly, Tobias Moskowitz (2020)"
   ]
  }
 ],
 "metadata": {
  "kernelspec": {
   "display_name": "python3",
   "language": "python",
   "name": "python3"
  }
 },
 "nbformat": 4,
 "nbformat_minor": 4
}
